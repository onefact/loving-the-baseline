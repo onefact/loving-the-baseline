{
 "cells": [
  {
   "cell_type": "markdown",
   "id": "40fbc828-7a02-4e34-9357-bba448184e60",
   "metadata": {},
   "source": [
    "# Setup and prerequisites\n",
    "\n",
    "Create a new text file, populated from `requirements.in` file in https://colab.research.google.com/github/jaanli/language-model-notebooks/blob/main/notebooks/getting-started.ipynb"
   ]
  },
  {
   "cell_type": "code",
   "execution_count": 1,
   "id": "a1a7ee4e-924f-4b79-8cba-d63ea5de0392",
   "metadata": {},
   "outputs": [],
   "source": [
    "%%capture\n",
    "\n",
    "!pip install -r requirements.txt"
   ]
  },
  {
   "cell_type": "markdown",
   "id": "b2f15c84-3e5e-417d-ac17-950dd72cda27",
   "metadata": {},
   "source": [
    "# Loading packages and extensions needed to get help from large language models like Claude and ChatGPT :)"
   ]
  },
  {
   "cell_type": "code",
   "execution_count": 2,
   "id": "a2a01d73-46df-480e-ad81-814c82aa3a8a",
   "metadata": {},
   "outputs": [],
   "source": [
    "%load_ext jupyter_ai"
   ]
  },
  {
   "cell_type": "code",
   "execution_count": 3,
   "id": "20290aaf-52f6-4538-8223-b635e1ef7e07",
   "metadata": {},
   "outputs": [],
   "source": [
    "%load_ext dotenv"
   ]
  },
  {
   "cell_type": "code",
   "execution_count": 4,
   "id": "ba9ebb85-3ecd-457d-8a90-d48e9299d298",
   "metadata": {},
   "outputs": [],
   "source": [
    "%dotenv "
   ]
  },
  {
   "cell_type": "code",
   "execution_count": 5,
   "id": "5937900d-c73c-460c-8040-b1f472deffe1",
   "metadata": {},
   "outputs": [
    {
     "name": "stderr",
     "output_type": "stream",
     "text": [
      "/home/zeus/miniconda3/envs/cloudspace/lib/python3.10/site-packages/sql/traits.py:20: FutureWarning: named_parameters: boolean values are now deprecated. Value True will be treated as \"enabled\". \n",
      "Please use a valid option: \"warn\", \"enabled\", or \"disabled\". \n",
      "For more information, see the docs: https://jupysql.ploomber.io/en/latest/api/configuration.html#named-parameters\n",
      "  warnings.warn(\n"
     ]
    }
   ],
   "source": [
    "# Load duckdb, which lets us efficiently load large files\n",
    "import duckdb\n",
    "\n",
    "# Load pandas, which lets us manipulate dataframes\n",
    "import pandas as pd\n",
    "\n",
    "# Import jupysql Jupyter extension to create SQL cells\n",
    "%load_ext sql\n",
    "\n",
    "# Set configrations on jupysql to directly output data to Pandas and to simplify the output that is printed to the notebook.\n",
    "%config SqlMagic.autopandas = True\n",
    "\n",
    "%config SqlMagic.feedback = False\n",
    "%config SqlMagic.displaycon = False\n",
    "\n",
    "# Allow named parameters (python variables) in SQL cells\n",
    "%config SqlMagic.named_parameters=True\n",
    "\n",
    "# Connect jupysql to DuckDB using a SQLAlchemy-style connection string. Either connect to an in memory DuckDB, or a file backed db.\n",
    "%sql duckdb:///:memory:"
   ]
  },
  {
   "cell_type": "code",
   "execution_count": null,
   "id": "7f1a7326-2e2d-4d31-9ceb-a7c75d42fc99",
   "metadata": {},
   "outputs": [],
   "source": []
  }
 ],
 "metadata": {
  "kernelspec": {
   "display_name": "Python 3",
   "language": "python",
   "name": "python3"
  },
  "language_info": {
   "codemirror_mode": {
    "name": "ipython",
    "version": 3
   },
   "file_extension": ".py",
   "mimetype": "text/x-python",
   "name": "python",
   "nbconvert_exporter": "python",
   "pygments_lexer": "ipython3",
   "version": "3.10.10"
  }
 },
 "nbformat": 4,
 "nbformat_minor": 5
}
